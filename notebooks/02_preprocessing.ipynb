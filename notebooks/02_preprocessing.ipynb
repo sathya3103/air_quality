{
 "cells": [
  {
   "cell_type": "markdown",
   "id": "c3d0573e",
   "metadata": {},
   "source": [
    "# 02 - Preprocessing\n",
    "\n",
    "This notebook handles missing values, ensures required features, and writes a processed dataset for modeling."
   ]
  },
  {
   "cell_type": "code",
   "execution_count": 1,
   "id": "a15a1adf",
   "metadata": {},
   "outputs": [
    {
     "name": "stdout",
     "output_type": "stream",
     "text": [
      "Before cleaning: (250, 9)\n",
      "After cleaning: (250, 11)\n",
      "✅ Preprocessing complete. Saved: ../data/processed_air_quality.csv\n"
     ]
    }
   ],
   "source": [
    "import pandas as pd\n",
    "import numpy as np\n",
    "\n",
    "RAW_PATH = '../data/air_quality.csv'       # input\n",
    "PROC_PATH = '../data/processed_air_quality.csv'  # output\n",
    "\n",
    "# Load raw data\n",
    "df = pd.read_csv(RAW_PATH)\n",
    "df.columns = [c.strip() for c in df.columns]\n",
    "\n",
    "print('Before cleaning:', df.shape)\n",
    "\n",
    "# Ensure required columns exist; if missing, create with zeros\n",
    "REQUIRED = ['PM2.5', 'PM10', 'NO2', 'SO2', 'CO', 'O3', 'AQI']\n",
    "for col in REQUIRED:\n",
    "    if col not in df.columns:\n",
    "        df[col] = 0.0  # safe default\n",
    "        print(f'Added missing column: {col} (filled with 0)')\n",
    "\n",
    "# Parse datetime-like columns if available\n",
    "date_cols = [c for c in df.columns if c.lower() in ['date','datetime','timestamp']]\n",
    "if date_cols:\n",
    "    time_col = date_cols[0]\n",
    "    df[time_col] = pd.to_datetime(df[time_col], errors='coerce')\n",
    "    df['Year'] = df[time_col].dt.year\n",
    "    df['Month'] = df[time_col].dt.month\n",
    "else:\n",
    "    time_col = None\n",
    "\n",
    "# Clean string columns (e.g., City)\n",
    "if 'City' in df.columns:\n",
    "    df['City'] = df['City'].astype(str).str.strip().str.title()\n",
    "\n",
    "# Handle missing numeric values: fill with 0 (matches training script)\n",
    "num_cols = df.select_dtypes(include=['number']).columns\n",
    "df[num_cols] = df[num_cols].fillna(0)\n",
    "\n",
    "# Final column order (keep City/time if present)\n",
    "cols_order = []\n",
    "if 'City' in df.columns: cols_order.append('City')\n",
    "if time_col: cols_order.append(time_col)\n",
    "cols_order += ['PM2.5','PM10','NO2','SO2','CO','O3','AQI']\n",
    "cols_order += [c for c in df.columns if c not in cols_order]  # append the rest\n",
    "df = df[cols_order]\n",
    "\n",
    "print('After cleaning:', df.shape)\n",
    "df.to_csv(PROC_PATH, index=False)\n",
    "print('✅ Preprocessing complete. Saved:', PROC_PATH)"
   ]
  },
  {
   "cell_type": "markdown",
   "id": "c4b3570b",
   "metadata": {},
   "source": [
    "➡️ Proceed to **03_model_training.ipynb** for model building and training."
   ]
  }
 ],
 "metadata": {
  "kernelspec": {
   "display_name": "Python 3",
   "language": "python",
   "name": "python3"
  },
  "language_info": {
   "codemirror_mode": {
    "name": "ipython",
    "version": 3
   },
   "file_extension": ".py",
   "mimetype": "text/x-python",
   "name": "python",
   "nbconvert_exporter": "python",
   "pygments_lexer": "ipython3",
   "version": "3.13.5"
  }
 },
 "nbformat": 4,
 "nbformat_minor": 5
}
