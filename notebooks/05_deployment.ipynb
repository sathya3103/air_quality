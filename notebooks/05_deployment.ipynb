{
 "cells": [
  {
   "cell_type": "markdown",
   "id": "50b0dddf",
   "metadata": {},
   "source": [
    "# 05 - Deployment & App Hook\n",
    "\n",
    "This notebook shows how to use the saved model for predictions and how it connects to the **Streamlit** app (`app.py`)."
   ]
  },
  {
   "cell_type": "code",
   "execution_count": 1,
   "id": "b1b8b327",
   "metadata": {},
   "outputs": [
   ],
   "source": [
    "import pandas as pd\n",
    "import joblib\n",
    "\n",
    "# Paths should match your repo\n",
    "DATA_PATH = '../data/processed_air_quality.csv'\n",
    "MODEL_PATH = r\"C:\\air_quality\\model\\aqi_model.pkl\"\n",
    "\n",
    "# Load processed dataset and model\n",
    "df = pd.read_csv(DATA_PATH)\n",
    "model = joblib.load(MODEL_PATH)\n",
    "\n",
    "FEATURES = ['PM2.5','PM10','NO2','SO2','CO','O3']\n",
    "\n",
    "# Pick a city (if City exists) and make a sample prediction\n",
    "if 'City' in df.columns:\n",
    "    city_name = df['City'].dropna().astype(str).iloc[0]\n",
    "    print('Example City:', city_name)\n",
    "    latest_row = df[df['City']==city_name].iloc[-1]\n",
    "else:\n",
    "    latest_row = df.iloc[-1]\n",
    "\n",
    "X = pd.DataFrame([latest_row[FEATURES].to_dict()])\n",
    "pred_aqi = model.predict(X)[0]\n",
    "print('Predicted AQI for sample record:', int(pred_aqi))"
   ]
  },
  {
   "cell_type": "markdown",
   "id": "1cc49240",
   "metadata": {},
   "source": [
    "### Connect with `app.py`\n",
    "\n",
    "Your `app.py` already:\n",
    "- Loads `model/aqi_model.pkl`\n",
    "- Reads `data/air_quality.csv`\n",
    "- Lets the user pick a **City** and shows:\n",
    "  - Predicted AQI + Category\n",
    "  - Latest pollutant bar chart + table\n",
    "  - Historical trend when a datetime column exists\n",
    "\n",
    "To run locally:\n",
    "```bash\n",
    "streamlit run app.py\n",
    "```\n",
    "\n",
    "To deploy on Streamlit Cloud / Hugging Face Spaces, ensure `requirements.txt` includes:\n",
    "```\n",
    "pandas\n",
    "scikit-learn\n",
    "joblib\n",
    "streamlit\n",
    "matplotlib\n",
    "seaborn\n",
    "```\n",
    "\n",
    "That's it! 🚀"
   ]
  }
 ],
 "metadata": {
  "kernelspec": {
   "display_name": "Python 3 (ipykernel)",
   "language": "python",
   "name": "python3"
  },
  "language_info": {
   "codemirror_mode": {
    "name": "ipython",
    "version": 3
   },
   "file_extension": ".py",
   "mimetype": "text/x-python",
   "name": "python",
   "nbconvert_exporter": "python",
   "pygments_lexer": "ipython3",
   "version": "3.13.5"
  }
 },
 "nbformat": 4,
 "nbformat_minor": 5
}
