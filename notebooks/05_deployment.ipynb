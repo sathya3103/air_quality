{
 "cells": [
  {
   "cell_type": "markdown",
   "id": "50b0dddf",
   "metadata": {},
   "source": [
    "# 05 - Deployment & App Hook\n",
    "\n",
    "This notebook shows how to use the saved model for predictions and how it connects to the **Streamlit** app (`app.py`)."
   ]
  },
  {
   "cell_type": "code",
   "execution_count": 1,
   "id": "b1b8b327",
   "metadata": {},
   "outputs": [
    {
     "ename": "FileNotFoundError",
     "evalue": "[Errno 2] No such file or directory: '../model/aqi_model.pkl'",
     "output_type": "error",
     "traceback": [
      "\u001b[31m---------------------------------------------------------------------------\u001b[39m",
      "\u001b[31mFileNotFoundError\u001b[39m                         Traceback (most recent call last)",
      "\u001b[36mCell\u001b[39m\u001b[36m \u001b[39m\u001b[32mIn[1]\u001b[39m\u001b[32m, line 10\u001b[39m\n\u001b[32m      8\u001b[39m \u001b[38;5;66;03m# Load processed dataset and model\u001b[39;00m\n\u001b[32m      9\u001b[39m df = pd.read_csv(DATA_PATH)\n\u001b[32m---> \u001b[39m\u001b[32m10\u001b[39m model = \u001b[43mjoblib\u001b[49m\u001b[43m.\u001b[49m\u001b[43mload\u001b[49m\u001b[43m(\u001b[49m\u001b[43mMODEL_PATH\u001b[49m\u001b[43m)\u001b[49m\n\u001b[32m     12\u001b[39m FEATURES = [\u001b[33m'\u001b[39m\u001b[33mPM2.5\u001b[39m\u001b[33m'\u001b[39m,\u001b[33m'\u001b[39m\u001b[33mPM10\u001b[39m\u001b[33m'\u001b[39m,\u001b[33m'\u001b[39m\u001b[33mNO2\u001b[39m\u001b[33m'\u001b[39m,\u001b[33m'\u001b[39m\u001b[33mSO2\u001b[39m\u001b[33m'\u001b[39m,\u001b[33m'\u001b[39m\u001b[33mCO\u001b[39m\u001b[33m'\u001b[39m,\u001b[33m'\u001b[39m\u001b[33mO3\u001b[39m\u001b[33m'\u001b[39m]\n\u001b[32m     14\u001b[39m \u001b[38;5;66;03m# Pick a city (if City exists) and make a sample prediction\u001b[39;00m\n",
      "\u001b[36mFile \u001b[39m\u001b[32mC:\\air_quality\\venv\\Lib\\site-packages\\joblib\\numpy_pickle.py:735\u001b[39m, in \u001b[36mload\u001b[39m\u001b[34m(filename, mmap_mode, ensure_native_byte_order)\u001b[39m\n\u001b[32m    733\u001b[39m         obj = _unpickle(fobj, ensure_native_byte_order=ensure_native_byte_order)\n\u001b[32m    734\u001b[39m \u001b[38;5;28;01melse\u001b[39;00m:\n\u001b[32m--> \u001b[39m\u001b[32m735\u001b[39m     \u001b[38;5;28;01mwith\u001b[39;00m \u001b[38;5;28;43mopen\u001b[39;49m\u001b[43m(\u001b[49m\u001b[43mfilename\u001b[49m\u001b[43m,\u001b[49m\u001b[43m \u001b[49m\u001b[33;43m\"\u001b[39;49m\u001b[33;43mrb\u001b[39;49m\u001b[33;43m\"\u001b[39;49m\u001b[43m)\u001b[49m \u001b[38;5;28;01mas\u001b[39;00m f:\n\u001b[32m    736\u001b[39m         \u001b[38;5;28;01mwith\u001b[39;00m _validate_fileobject_and_memmap(f, filename, mmap_mode) \u001b[38;5;28;01mas\u001b[39;00m (\n\u001b[32m    737\u001b[39m             fobj,\n\u001b[32m    738\u001b[39m             validated_mmap_mode,\n\u001b[32m    739\u001b[39m         ):\n\u001b[32m    740\u001b[39m             \u001b[38;5;28;01mif\u001b[39;00m \u001b[38;5;28misinstance\u001b[39m(fobj, \u001b[38;5;28mstr\u001b[39m):\n\u001b[32m    741\u001b[39m                 \u001b[38;5;66;03m# if the returned file object is a string, this means we\u001b[39;00m\n\u001b[32m    742\u001b[39m                 \u001b[38;5;66;03m# try to load a pickle file generated with an version of\u001b[39;00m\n\u001b[32m    743\u001b[39m                 \u001b[38;5;66;03m# Joblib so we load it with joblib compatibility function.\u001b[39;00m\n",
      "\u001b[31mFileNotFoundError\u001b[39m: [Errno 2] No such file or directory: '../model/aqi_model.pkl'"
     ]
    }
   ],
   "source": [
    "import pandas as pd\n",
    "import joblib\n",
    "\n",
    "# Paths should match your repo\n",
    "DATA_PATH = '../data/processed_air_quality.csv'\n",
    "MODEL_PATH = r\"C:\\air_quality\\model\\aqi_model.pkl\"\n",
    "\n",
    "# Load processed dataset and model\n",
    "df = pd.read_csv(DATA_PATH)\n",
    "model = joblib.load(MODEL_PATH)\n",
    "\n",
    "FEATURES = ['PM2.5','PM10','NO2','SO2','CO','O3']\n",
    "\n",
    "# Pick a city (if City exists) and make a sample prediction\n",
    "if 'City' in df.columns:\n",
    "    city_name = df['City'].dropna().astype(str).iloc[0]\n",
    "    print('Example City:', city_name)\n",
    "    latest_row = df[df['City']==city_name].iloc[-1]\n",
    "else:\n",
    "    latest_row = df.iloc[-1]\n",
    "\n",
    "X = pd.DataFrame([latest_row[FEATURES].to_dict()])\n",
    "pred_aqi = model.predict(X)[0]\n",
    "print('Predicted AQI for sample record:', int(pred_aqi))"
   ]
  },
  {
   "cell_type": "markdown",
   "id": "1cc49240",
   "metadata": {},
   "source": [
    "### Connect with `app.py`\n",
    "\n",
    "Your `app.py` already:\n",
    "- Loads `model/aqi_model.pkl`\n",
    "- Reads `data/air_quality.csv`\n",
    "- Lets the user pick a **City** and shows:\n",
    "  - Predicted AQI + Category\n",
    "  - Latest pollutant bar chart + table\n",
    "  - Historical trend when a datetime column exists\n",
    "\n",
    "To run locally:\n",
    "```bash\n",
    "streamlit run app.py\n",
    "```\n",
    "\n",
    "To deploy on Streamlit Cloud / Hugging Face Spaces, ensure `requirements.txt` includes:\n",
    "```\n",
    "pandas\n",
    "scikit-learn\n",
    "joblib\n",
    "streamlit\n",
    "matplotlib\n",
    "seaborn\n",
    "```\n",
    "\n",
    "That's it! 🚀"
   ]
  }
 ],
 "metadata": {
  "kernelspec": {
   "display_name": "Python 3 (ipykernel)",
   "language": "python",
   "name": "python3"
  },
  "language_info": {
   "codemirror_mode": {
    "name": "ipython",
    "version": 3
   },
   "file_extension": ".py",
   "mimetype": "text/x-python",
   "name": "python",
   "nbconvert_exporter": "python",
   "pygments_lexer": "ipython3",
   "version": "3.13.5"
  }
 },
 "nbformat": 4,
 "nbformat_minor": 5
}
