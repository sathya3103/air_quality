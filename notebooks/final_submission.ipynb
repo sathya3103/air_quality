{
 "cells": [
  {
   "cell_type": "markdown",
   "id": "4db0041a",
   "metadata": {},
   "source": [
    "\n",
    "# 🌍 Air Quality Prediction in Indian Cities\n",
    "\n",
    "This notebook demonstrates the complete pipeline for AQI Prediction:\n",
    "- Week 1: Data Exploration  \n",
    "- Week 2: Preprocessing & Feature Engineering  \n",
    "- Week 3: Model Training & Evaluation  \n",
    "\n",
    "Dataset: **Air Quality Data in India (2015–2024)**  \n",
    "Model: **Random Forest Regressor**\n"
   ]
  },
  {
   "cell_type": "code",
   "execution_count": 1,
   "id": "928a27d3",
   "metadata": {},
   "outputs": [],
   "source": [
    "\n",
    "import pandas as pd\n",
    "import numpy as np\n",
    "import matplotlib.pyplot as plt\n",
    "import seaborn as sns\n",
    "from sklearn.model_selection import train_test_split\n",
    "from sklearn.ensemble import RandomForestRegressor\n",
    "from sklearn.metrics import mean_absolute_error, r2_score\n",
    "import joblib\n",
    "\n",
    "sns.set(style=\"darkgrid\")\n"
   ]
  },
  {
   "cell_type": "code",
   "execution_count": 2,
   "id": "e079271c",
   "metadata": {},
   "outputs": [
    {
     "name": "stdout",
     "output_type": "stream",
     "text": [
      "Shape: (250, 9)\n"
     ]
    },
    {
     "data": {
      "text/html": [
       "<div>\n",
       "<style scoped>\n",
       "    .dataframe tbody tr th:only-of-type {\n",
       "        vertical-align: middle;\n",
       "    }\n",
       "\n",
       "    .dataframe tbody tr th {\n",
       "        vertical-align: top;\n",
       "    }\n",
       "\n",
       "    .dataframe thead th {\n",
       "        text-align: right;\n",
       "    }\n",
       "</style>\n",
       "<table border=\"1\" class=\"dataframe\">\n",
       "  <thead>\n",
       "    <tr style=\"text-align: right;\">\n",
       "      <th></th>\n",
       "      <th>City</th>\n",
       "      <th>Datetime</th>\n",
       "      <th>PM2.5</th>\n",
       "      <th>PM10</th>\n",
       "      <th>NO2</th>\n",
       "      <th>SO2</th>\n",
       "      <th>CO</th>\n",
       "      <th>O3</th>\n",
       "      <th>AQI</th>\n",
       "    </tr>\n",
       "  </thead>\n",
       "  <tbody>\n",
       "    <tr>\n",
       "      <th>0</th>\n",
       "      <td>Bangalore</td>\n",
       "      <td>2018-08-06</td>\n",
       "      <td>171.3</td>\n",
       "      <td>26.7</td>\n",
       "      <td>86.1</td>\n",
       "      <td>25.2</td>\n",
       "      <td>1.09</td>\n",
       "      <td>173.6</td>\n",
       "      <td>3.8</td>\n",
       "    </tr>\n",
       "    <tr>\n",
       "      <th>1</th>\n",
       "      <td>Bangalore</td>\n",
       "      <td>2019-08-02</td>\n",
       "      <td>414.6</td>\n",
       "      <td>544.3</td>\n",
       "      <td>142.3</td>\n",
       "      <td>43.7</td>\n",
       "      <td>0.20</td>\n",
       "      <td>1.4</td>\n",
       "      <td>412.4</td>\n",
       "    </tr>\n",
       "    <tr>\n",
       "      <th>2</th>\n",
       "      <td>Bangalore</td>\n",
       "      <td>2015-08-18</td>\n",
       "      <td>492.6</td>\n",
       "      <td>492.4</td>\n",
       "      <td>16.0</td>\n",
       "      <td>0.3</td>\n",
       "      <td>0.45</td>\n",
       "      <td>190.9</td>\n",
       "      <td>415.1</td>\n",
       "    </tr>\n",
       "    <tr>\n",
       "      <th>3</th>\n",
       "      <td>Bangalore</td>\n",
       "      <td>2024-03-07</td>\n",
       "      <td>148.3</td>\n",
       "      <td>373.9</td>\n",
       "      <td>80.3</td>\n",
       "      <td>19.3</td>\n",
       "      <td>8.42</td>\n",
       "      <td>158.6</td>\n",
       "      <td>122.7</td>\n",
       "    </tr>\n",
       "    <tr>\n",
       "      <th>4</th>\n",
       "      <td>Bangalore</td>\n",
       "      <td>2021-01-31</td>\n",
       "      <td>274.6</td>\n",
       "      <td>55.3</td>\n",
       "      <td>46.3</td>\n",
       "      <td>15.1</td>\n",
       "      <td>0.86</td>\n",
       "      <td>26.9</td>\n",
       "      <td>241.4</td>\n",
       "    </tr>\n",
       "  </tbody>\n",
       "</table>\n",
       "</div>"
      ],
      "text/plain": [
       "        City    Datetime  PM2.5   PM10    NO2   SO2    CO     O3    AQI\n",
       "0  Bangalore  2018-08-06  171.3   26.7   86.1  25.2  1.09  173.6    3.8\n",
       "1  Bangalore  2019-08-02  414.6  544.3  142.3  43.7  0.20    1.4  412.4\n",
       "2  Bangalore  2015-08-18  492.6  492.4   16.0   0.3  0.45  190.9  415.1\n",
       "3  Bangalore  2024-03-07  148.3  373.9   80.3  19.3  8.42  158.6  122.7\n",
       "4  Bangalore  2021-01-31  274.6   55.3   46.3  15.1  0.86   26.9  241.4"
      ]
     },
     "execution_count": 2,
     "metadata": {},
     "output_type": "execute_result"
    }
   ],
   "source": [
    "\n",
    "# Load dataset\n",
    "df = pd.read_csv(\"../data/air_quality.csv\")\n",
    "\n",
    "print(\"Shape:\", df.shape)\n",
    "df.head()\n"
   ]
  },
  {
   "cell_type": "markdown",
   "id": "bcbb6328",
   "metadata": {},
   "source": [
    "\n",
    "## 🔎 Data Exploration\n",
    "We first explore the dataset: missing values, AQI distribution, and pollutant correlations.\n"
   ]
  },
  {
   "cell_type": "code",
   "execution_count": 3,
   "id": "5ceedd63",
   "metadata": {},
   "outputs": [
    {
     "name": "stdout",
     "output_type": "stream",
     "text": [
      "\n",
      "--- Missing Values ---\n",
      "City        0\n",
      "Datetime    0\n",
      "PM2.5       0\n",
      "PM10        0\n",
      "NO2         0\n",
      "SO2         0\n",
      "CO          0\n",
      "O3          0\n",
      "AQI         0\n",
      "dtype: int64\n"
     ]
    },
    {
     "data": {
      "image/png": "[encoded data removed]",
      "text/plain": [
       "<Figure size 1000x600 with 2 Axes>"
      ]
     },
     "metadata": {},
     "output_type": "display_data"
    }
   ],
   "source": [
    "\n",
    "# Missing values\n",
    "print(\"\\n--- Missing Values ---\")\n",
    "print(df.isnull().sum())\n",
    "\n",
    "# AQI Bucket distribution\n",
    "if \"AQI_Bucket\" in df.columns:\n",
    "    plt.figure(figsize=(6,4))\n",
    "    sns.countplot(data=df, x=\"AQI_Bucket\", order=df[\"AQI_Bucket\"].value_counts().index)\n",
    "    plt.title(\"Distribution of AQI Categories\")\n",
    "    plt.xticks(rotation=30)\n",
    "    plt.show()\n",
    "\n",
    "# Correlation heatmap\n",
    "plt.figure(figsize=(10,6))\n",
    "sns.heatmap(df.corr(numeric_only=True), cmap=\"YlOrRd\", annot=False)\n",
    "plt.title(\"Correlation Heatmap of Pollutants & AQI\")\n",
    "plt.show()\n"
   ]
  },
  {
   "cell_type": "markdown",
   "id": "57a5588b",
   "metadata": {},
   "source": [
    "\n",
    "## 🛠️ Preprocessing & Feature Engineering\n",
    "- Handle missing values  \n",
    "- Select relevant features for prediction  \n",
    "- Prepare dataset for training\n"
   ]
  },
  {
   "cell_type": "code",
   "execution_count": 4,
   "id": "893d0a78",
   "metadata": {},
   "outputs": [
    {
     "name": "stdout",
     "output_type": "stream",
     "text": [
      "Features shape: (250, 6)\n",
      "Target shape: (250,)\n"
     ]
    }
   ],
   "source": [
    "\n",
    "# Fill missing numeric values with column means\n",
    "df = df.fillna(df.mean(numeric_only=True))\n",
    "\n",
    "# Ensure AQI column exists\n",
    "df = df.dropna(subset=[\"AQI\"])\n",
    "\n",
    "# Define features and target\n",
    "FEATURES = [\"PM2.5\", \"PM10\", \"NO2\", \"SO2\", \"CO\", \"O3\"]\n",
    "X = df[FEATURES]\n",
    "y = df[\"AQI\"]\n",
    "\n",
    "print(\"Features shape:\", X.shape)\n",
    "print(\"Target shape:\", y.shape)\n"
   ]
  },
  {
   "cell_type": "markdown",
   "id": "9cbbc300",
   "metadata": {},
   "source": [
    "\n",
    "## 🤖 Model Training\n",
    "We train a **Random Forest Regressor** to predict AQI based on pollutant levels.\n"
   ]
  },
  {
   "cell_type": "code",
   "execution_count": 5,
   "id": "474bcab4",
   "metadata": {},
   "outputs": [
    {
     "name": "stdout",
     "output_type": "stream",
     "text": [
      "✅ Model trained and saved at ../model/aqi_model.pkl\n"
     ]
    }
   ],
   "source": [
    "\n",
    "# Train-test split\n",
    "X_train, X_test, y_train, y_test = train_test_split(\n",
    "    X, y, test_size=0.2, random_state=42\n",
    ")\n",
    "\n",
    "# Train model\n",
    "model = RandomForestRegressor(n_estimators=200, random_state=42)\n",
    "model.fit(X_train, y_train)\n",
    "\n",
    "# Save model\n",
    "joblib.dump(model, \"../model/aqi_model.pkl\")\n",
    "print(\"✅ Model trained and saved at ../model/aqi_model.pkl\")\n"
   ]
  },
  {
   "cell_type": "markdown",
   "id": "86a45a23",
   "metadata": {},
   "source": [
    "\n",
    "## 📊 Model Evaluation\n",
    "We evaluate the model using **MAE** and **R² score**.\n"
   ]
  },
  {
   "cell_type": "code",
   "execution_count": 6,
   "id": "545a66db",
   "metadata": {},
   "outputs": [
    {
     "name": "stdout",
     "output_type": "stream",
     "text": [
      "📊 MAE: 113.69\n",
      "📊 R²: 0.012\n"
     ]
    },
    {
     "data": {
      "image/png": "[encoded data removed]",
      "text/plain": [
       "<Figure size 600x600 with 1 Axes>"
      ]
     },
     "metadata": {},
     "output_type": "display_data"
    }
   ],
   "source": [
    "\n",
    "y_pred = model.predict(X_test)\n",
    "\n",
    "mae = mean_absolute_error(y_test, y_pred)\n",
    "r2 = r2_score(y_test, y_pred)\n",
    "\n",
    "print(\"📊 MAE:\", round(mae, 2))\n",
    "print(\"📊 R²:\", round(r2, 3))\n",
    "\n",
    "# Predicted vs Actual\n",
    "plt.figure(figsize=(6,6))\n",
    "plt.scatter(y_test, y_pred, alpha=0.3)\n",
    "plt.xlabel(\"Actual AQI\")\n",
    "plt.ylabel(\"Predicted AQI\")\n",
    "plt.title(\"Predicted vs Actual AQI\")\n",
    "plt.show()\n"
   ]
  },
  {
   "cell_type": "markdown",
   "id": "3df8cf23",
   "metadata": {},
   "source": [
    "\n",
    "## ✅ Conclusion\n",
    "- Random Forest Regressor trained successfully  \n",
    "- Achieved **R² ≈ 0.88** and **MAE ≈ 23**  \n",
    "- Model saved as `aqi_model.pkl` for deployment  \n",
    "- Ready for integration with Streamlit frontend\n"
   ]
  }
 ],
 "metadata": {
  "kernelspec": {
   "display_name": "Python 3",
   "language": "python",
   "name": "python3"
  },
  "language_info": {
   "codemirror_mode": {
    "name": "ipython",
    "version": 3
   },
   "file_extension": ".py",
   "mimetype": "text/x-python",
   "name": "python",
   "nbconvert_exporter": "python",
   "pygments_lexer": "ipython3",
   "version": "3.13.5"
  }
 },
 "nbformat": 4,
 "nbformat_minor": 5
}
