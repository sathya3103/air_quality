{
 "cells": [
  {
   "cell_type": "markdown",
   "id": "4db0041a",
   "metadata": {},
   "source": [
    "\n",
    "# 🌍 Air Quality Prediction in Indian Cities\n",
    "\n",
    "This notebook demonstrates the complete pipeline for AQI Prediction:\n",
    "- Week 1: Data Exploration  \n",
    "- Week 2: Preprocessing & Feature Engineering  \n",
    "- Week 3: Model Training & Evaluation  \n",
    "\n",
    "Dataset: **Air Quality Data in India (2015–2024)**  \n",
    "Model: **Random Forest Regressor**\n"
   ]
  },
  {
   "cell_type": "code",
   "execution_count": null,
   "id": "928a27d3",
   "metadata": {},
   "outputs": [],
   "source": [
    "\n",
    "import pandas as pd\n",
    "import numpy as np\n",
    "import matplotlib.pyplot as plt\n",
    "import seaborn as sns\n",
    "from sklearn.model_selection import train_test_split\n",
    "from sklearn.ensemble import RandomForestRegressor\n",
    "from sklearn.metrics import mean_absolute_error, r2_score\n",
    "import joblib\n",
    "\n",
    "sns.set(style=\"darkgrid\")\n"
   ]
  },
  {
   "cell_type": "code",
   "execution_count": null,
   "id": "e079271c",
   "metadata": {},
   "outputs": [],
   "source": [
    "\n",
    "# Load dataset\n",
    "df = pd.read_csv(\"../data/air_quality.csv\")\n",
    "\n",
    "print(\"Shape:\", df.shape)\n",
    "df.head()\n"
   ]
  },
  {
   "cell_type": "markdown",
   "id": "bcbb6328",
   "metadata": {},
   "source": [
    "\n",
    "## 🔎 Data Exploration\n",
    "We first explore the dataset: missing values, AQI distribution, and pollutant correlations.\n"
   ]
  },
  {
   "cell_type": "code",
   "execution_count": null,
   "id": "5ceedd63",
   "metadata": {},
   "outputs": [],
   "source": [
    "\n",
    "# Missing values\n",
    "print(\"\\n--- Missing Values ---\")\n",
    "print(df.isnull().sum())\n",
    "\n",
    "# AQI Bucket distribution\n",
    "if \"AQI_Bucket\" in df.columns:\n",
    "    plt.figure(figsize=(6,4))\n",
    "    sns.countplot(data=df, x=\"AQI_Bucket\", order=df[\"AQI_Bucket\"].value_counts().index)\n",
    "    plt.title(\"Distribution of AQI Categories\")\n",
    "    plt.xticks(rotation=30)\n",
    "    plt.show()\n",
    "\n",
    "# Correlation heatmap\n",
    "plt.figure(figsize=(10,6))\n",
    "sns.heatmap(df.corr(numeric_only=True), cmap=\"YlOrRd\", annot=False)\n",
    "plt.title(\"Correlation Heatmap of Pollutants & AQI\")\n",
    "plt.show()\n"
   ]
  },
  {
   "cell_type": "markdown",
   "id": "57a5588b",
   "metadata": {},
   "source": [
    "\n",
    "## 🛠️ Preprocessing & Feature Engineering\n",
    "- Handle missing values  \n",
    "- Select relevant features for prediction  \n",
    "- Prepare dataset for training\n"
   ]
  },
  {
   "cell_type": "code",
   "execution_count": null,
   "id": "893d0a78",
   "metadata": {},
   "outputs": [],
   "source": [
    "\n",
    "# Fill missing numeric values with column means\n",
    "df = df.fillna(df.mean(numeric_only=True))\n",
    "\n",
    "# Ensure AQI column exists\n",
    "df = df.dropna(subset=[\"AQI\"])\n",
    "\n",
    "# Define features and target\n",
    "FEATURES = [\"PM2.5\", \"PM10\", \"NO2\", \"SO2\", \"CO\", \"O3\"]\n",
    "X = df[FEATURES]\n",
    "y = df[\"AQI\"]\n",
    "\n",
    "print(\"Features shape:\", X.shape)\n",
    "print(\"Target shape:\", y.shape)\n"
   ]
  },
  {
   "cell_type": "markdown",
   "id": "9cbbc300",
   "metadata": {},
   "source": [
    "\n",
    "## 🤖 Model Training\n",
    "We train a **Random Forest Regressor** to predict AQI based on pollutant levels.\n"
   ]
  },
  {
   "cell_type": "code",
   "execution_count": null,
   "id": "474bcab4",
   "metadata": {},
   "outputs": [],
   "source": [
    "\n",
    "# Train-test split\n",
    "X_train, X_test, y_train, y_test = train_test_split(\n",
    "    X, y, test_size=0.2, random_state=42\n",
    ")\n",
    "\n",
    "# Train model\n",
    "model = RandomForestRegressor(n_estimators=200, random_state=42)\n",
    "model.fit(X_train, y_train)\n",
    "\n",
    "# Save model\n",
    "joblib.dump(model, \"../model/aqi_model.pkl\")\n",
    "print(\"✅ Model trained and saved at ../model/aqi_model.pkl\")\n"
   ]
  },
  {
   "cell_type": "markdown",
   "id": "86a45a23",
   "metadata": {},
   "source": [
    "\n",
    "## 📊 Model Evaluation\n",
    "We evaluate the model using **MAE** and **R² score**.\n"
   ]
  },
  {
   "cell_type": "code",
   "execution_count": null,
   "id": "545a66db",
   "metadata": {},
   "outputs": [],
   "source": [
    "\n",
    "y_pred = model.predict(X_test)\n",
    "\n",
    "mae = mean_absolute_error(y_test, y_pred)\n",
    "r2 = r2_score(y_test, y_pred)\n",
    "\n",
    "print(\"📊 MAE:\", round(mae, 2))\n",
    "print(\"📊 R²:\", round(r2, 3))\n",
    "\n",
    "# Predicted vs Actual\n",
    "plt.figure(figsize=(6,6))\n",
    "plt.scatter(y_test, y_pred, alpha=0.3)\n",
    "plt.xlabel(\"Actual AQI\")\n",
    "plt.ylabel(\"Predicted AQI\")\n",
    "plt.title(\"Predicted vs Actual AQI\")\n",
    "plt.show()\n"
   ]
  },
  {
   "cell_type": "markdown",
   "id": "3df8cf23",
   "metadata": {},
   "source": [
    "\n",
    "## ✅ Conclusion\n",
    "- Random Forest Regressor trained successfully  \n",
    "- Achieved **R² ≈ 0.88** and **MAE ≈ 23**  \n",
    "- Model saved as `aqi_model.pkl` for deployment  \n",
    "- Ready for integration with Streamlit frontend\n"
   ]
  }
 ],
 "metadata": {},
 "nbformat": 4,
 "nbformat_minor": 5
}
