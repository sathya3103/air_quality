{
 "cells": [
  {
   "cell_type": "markdown",
   "id": "4b948110",
   "metadata": {},
   "source": [
    "# 03 - Model Training\n",
    "\n",
    "This notebook trains a **RandomForestRegressor** to predict AQI using key pollutants."
   ]
  },
  {
   "cell_type": "code",
   "execution_count": 1,
   "id": "2c895eb7",
   "metadata": {},
   "outputs": [
    {
     "name": "stdout",
     "output_type": "stream",
     "text": [
      "Loaded processed data: (29531, 18)\n",
      "MAE: 23.30 | R^2: 0.877\n",
      "✅ Model saved to ../model\\aqi_model.pkl\n"
     ]
    }
   ],
   "source": [
    "import os\n",
    "import pandas as pd\n",
    "from sklearn.ensemble import RandomForestRegressor\n",
    "from sklearn.model_selection import train_test_split\n",
    "from sklearn.metrics import mean_absolute_error, r2_score\n",
    "import joblib\n",
    "\n",
    "PROC_PATH = '../data/processed_air_quality.csv'\n",
    "MODEL_DIR = '../model'\n",
    "MODEL_PATH = os.path.join(MODEL_DIR, 'aqi_model.pkl')\n",
    "\n",
    "# Load processed dataset\n",
    "df = pd.read_csv(PROC_PATH)\n",
    "print('Loaded processed data:', df.shape)\n",
    "\n",
    "FEATURES = ['PM2.5','PM10','NO2','SO2','CO','O3']\n",
    "for f in FEATURES:\n",
    "    if f not in df.columns:\n",
    "        df[f] = 0.0\n",
    "\n",
    "df = df.fillna(0)\n",
    "X = df[FEATURES]\n",
    "y = df['AQI']\n",
    "\n",
    "# Train/validation split\n",
    "X_train, X_val, y_train, y_val = train_test_split(X, y, test_size=0.2, random_state=42)\n",
    "\n",
    "# Train model\n",
    "model = RandomForestRegressor(n_estimators=200, random_state=42)\n",
    "model.fit(X_train, y_train)\n",
    "\n",
    "# Evaluate quickly\n",
    "pred_val = model.predict(X_val)\n",
    "mae = mean_absolute_error(y_val, pred_val)\n",
    "r2 = r2_score(y_val, pred_val)\n",
    "print(f'MAE: {mae:.2f} | R^2: {r2:.3f}')\n",
    "\n",
    "# Save model\n",
    "os.makedirs(MODEL_DIR, exist_ok=True)\n",
    "joblib.dump(model, MODEL_PATH)\n",
    "print('✅ Model saved to', MODEL_PATH)"
   ]
  },
  {
   "cell_type": "markdown",
   "id": "b1d88d3c",
   "metadata": {},
   "source": [
    "➡️ Proceed to **04_evaluation.ipynb** for detailed evaluation and visuals."
   ]
  }
 ],
 "metadata": {
  "kernelspec": {
   "display_name": "Python 3 (ipykernel)",
   "language": "python",
   "name": "python3"
  },
  "language_info": {
   "codemirror_mode": {
    "name": "ipython",
    "version": 3
   },
   "file_extension": ".py",
   "mimetype": "text/x-python",
   "name": "python",
   "nbconvert_exporter": "python",
   "pygments_lexer": "ipython3",
   "version": "3.13.5"
  }
 },
 "nbformat": 4,
 "nbformat_minor": 5
}
